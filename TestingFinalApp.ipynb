{
  "nbformat": 4,
  "nbformat_minor": 0,
  "metadata": {
    "colab": {
      "name": "TestingFinalApp.ipynb",
      "provenance": [],
      "collapsed_sections": [],
      "mount_file_id": "1g0XQkyIBOypACgu9L5Lb2rxYql9pMWLp",
      "authorship_tag": "ABX9TyMnoTp3AwXAhLT8Dc5g8Vvu",
      "include_colab_link": true
    },
    "kernelspec": {
      "name": "python3",
      "display_name": "Python 3"
    },
    "language_info": {
      "name": "python"
    },
    "accelerator": "GPU"
  },
  "cells": [
    {
      "cell_type": "markdown",
      "metadata": {
        "id": "view-in-github",
        "colab_type": "text"
      },
      "source": [
        "<a href=\"https://colab.research.google.com/github/AnishPawar/Medical-Image-Cleaner-Anony/blob/main/TestingFinalApp.ipynb\" target=\"_parent\"><img src=\"https://colab.research.google.com/assets/colab-badge.svg\" alt=\"Open In Colab\"/></a>"
      ]
    },
    {
      "cell_type": "code",
      "source": [
        "import matplotlib.pyplot as plt"
      ],
      "metadata": {
        "id": "tkcH-Q-pc2b7"
      },
      "execution_count": 1,
      "outputs": []
    },
    {
      "cell_type": "code",
      "execution_count": 2,
      "metadata": {
        "colab": {
          "base_uri": "https://localhost:8080/"
        },
        "id": "gcOiEqkQW6Zx",
        "outputId": "0622b85e-5c31-4551-ebaa-1ffc738a144f"
      },
      "outputs": [
        {
          "output_type": "stream",
          "name": "stdout",
          "text": [
            "/content/drive/MyDrive/Mini_Project_Sem_VI/Final\n"
          ]
        }
      ],
      "source": [
        "%cd /content/drive/MyDrive/Mini_Project_Sem_VI/Final"
      ]
    },
    {
      "cell_type": "code",
      "source": [
        "%cd /content/drive/MyDrive/Mini_Project_Sem_VI/Final/Medical-Image-Cleaner-Anony/WebApp"
      ],
      "metadata": {
        "colab": {
          "base_uri": "https://localhost:8080/"
        },
        "id": "i0udjd9lmrp9",
        "outputId": "e87fc147-7939-410d-c9a9-342fedc94c9d"
      },
      "execution_count": 3,
      "outputs": [
        {
          "output_type": "stream",
          "name": "stdout",
          "text": [
            "/content/drive/MyDrive/Mini_Project_Sem_VI/Final/Medical-Image-Cleaner-Anony/WebApp\n"
          ]
        }
      ]
    },
    {
      "cell_type": "code",
      "source": [
        "%cd /content/drive/MyDrive/Mini_Project_Sem_VI/Final/IFAN\n",
        "!pip install -r requirements.txt"
      ],
      "metadata": {
        "colab": {
          "base_uri": "https://localhost:8080/",
          "height": 1000
        },
        "id": "HIg3yKy2qVZP",
        "outputId": "2ebcad11-5522-4c71-eebf-ef3c38912774"
      },
      "execution_count": 5,
      "outputs": [
        {
          "output_type": "stream",
          "name": "stdout",
          "text": [
            "/content/drive/MyDrive/Mini_Project_Sem_VI/Final/IFAN\n",
            "Requirement already satisfied: easydict==1.9 in /usr/local/lib/python3.7/dist-packages (from -r requirements.txt (line 1)) (1.9)\n",
            "Collecting ptflops==0.6.4\n",
            "  Downloading ptflops-0.6.4.tar.gz (10 kB)\n",
            "Collecting scikit-image==0.18.1\n",
            "  Downloading scikit_image-0.18.1-cp37-cp37m-manylinux1_x86_64.whl (29.2 MB)\n",
            "\u001b[K     |████████████████████████████████| 29.2 MB 217 kB/s \n",
            "\u001b[?25hCollecting scikit-learn==0.24.1\n",
            "  Downloading scikit_learn-0.24.1-cp37-cp37m-manylinux2010_x86_64.whl (22.3 MB)\n",
            "\u001b[K     |████████████████████████████████| 22.3 MB 65.1 MB/s \n",
            "\u001b[?25hCollecting scipy==1.6.0\n",
            "  Downloading scipy-1.6.0-cp37-cp37m-manylinux1_x86_64.whl (27.4 MB)\n",
            "\u001b[K     |████████████████████████████████| 27.4 MB 1.6 MB/s \n",
            "\u001b[?25hRequirement already satisfied: sklearn==0.0 in /usr/local/lib/python3.7/dist-packages (from -r requirements.txt (line 6)) (0.0)\n",
            "Collecting tensorboardX==2.1\n",
            "  Downloading tensorboardX-2.1-py2.py3-none-any.whl (308 kB)\n",
            "\u001b[K     |████████████████████████████████| 308 kB 45.6 MB/s \n",
            "\u001b[?25hRequirement already satisfied: termcolor==1.1.0 in /usr/local/lib/python3.7/dist-packages (from -r requirements.txt (line 8)) (1.1.0)\n",
            "Collecting torch-optimizer==0.1.0\n",
            "  Downloading torch_optimizer-0.1.0-py3-none-any.whl (72 kB)\n",
            "\u001b[K     |████████████████████████████████| 72 kB 982 kB/s \n",
            "\u001b[?25hCollecting tqdm==4.56.0\n",
            "  Downloading tqdm-4.56.0-py2.py3-none-any.whl (72 kB)\n",
            "\u001b[K     |████████████████████████████████| 72 kB 953 kB/s \n",
            "\u001b[?25hCollecting jupyterlab\n",
            "  Downloading jupyterlab-3.3.2-py3-none-any.whl (8.7 MB)\n",
            "\u001b[K     |████████████████████████████████| 8.7 MB 38.4 MB/s \n",
            "\u001b[?25hRequirement already satisfied: torch in /usr/local/lib/python3.7/dist-packages (from ptflops==0.6.4->-r requirements.txt (line 2)) (1.10.0+cu111)\n",
            "Requirement already satisfied: numpy>=1.16.5 in /usr/local/lib/python3.7/dist-packages (from scikit-image==0.18.1->-r requirements.txt (line 3)) (1.21.5)\n",
            "Requirement already satisfied: PyWavelets>=1.1.1 in /usr/local/lib/python3.7/dist-packages (from scikit-image==0.18.1->-r requirements.txt (line 3)) (1.3.0)\n",
            "Requirement already satisfied: pillow!=7.1.0,!=7.1.1,>=4.3.0 in /usr/local/lib/python3.7/dist-packages (from scikit-image==0.18.1->-r requirements.txt (line 3)) (7.1.2)\n",
            "Requirement already satisfied: matplotlib!=3.0.0,>=2.0.0 in /usr/local/lib/python3.7/dist-packages (from scikit-image==0.18.1->-r requirements.txt (line 3)) (3.2.2)\n",
            "Requirement already satisfied: networkx>=2.0 in /usr/local/lib/python3.7/dist-packages (from scikit-image==0.18.1->-r requirements.txt (line 3)) (2.6.3)\n",
            "Requirement already satisfied: tifffile>=2019.7.26 in /usr/local/lib/python3.7/dist-packages (from scikit-image==0.18.1->-r requirements.txt (line 3)) (2021.11.2)\n",
            "Requirement already satisfied: imageio>=2.3.0 in /usr/local/lib/python3.7/dist-packages (from scikit-image==0.18.1->-r requirements.txt (line 3)) (2.4.1)\n",
            "Requirement already satisfied: threadpoolctl>=2.0.0 in /usr/local/lib/python3.7/dist-packages (from scikit-learn==0.24.1->-r requirements.txt (line 4)) (3.1.0)\n",
            "Requirement already satisfied: joblib>=0.11 in /usr/local/lib/python3.7/dist-packages (from scikit-learn==0.24.1->-r requirements.txt (line 4)) (1.1.0)\n",
            "Requirement already satisfied: six in /usr/local/lib/python3.7/dist-packages (from tensorboardX==2.1->-r requirements.txt (line 7)) (1.15.0)\n",
            "Requirement already satisfied: protobuf>=3.8.0 in /usr/local/lib/python3.7/dist-packages (from tensorboardX==2.1->-r requirements.txt (line 7)) (3.17.3)\n",
            "Collecting pytorch-ranger>=0.1.1\n",
            "  Downloading pytorch_ranger-0.1.1-py3-none-any.whl (14 kB)\n",
            "Requirement already satisfied: kiwisolver>=1.0.1 in /usr/local/lib/python3.7/dist-packages (from matplotlib!=3.0.0,>=2.0.0->scikit-image==0.18.1->-r requirements.txt (line 3)) (1.4.0)\n",
            "Requirement already satisfied: python-dateutil>=2.1 in /usr/local/lib/python3.7/dist-packages (from matplotlib!=3.0.0,>=2.0.0->scikit-image==0.18.1->-r requirements.txt (line 3)) (2.8.2)\n",
            "Requirement already satisfied: cycler>=0.10 in /usr/local/lib/python3.7/dist-packages (from matplotlib!=3.0.0,>=2.0.0->scikit-image==0.18.1->-r requirements.txt (line 3)) (0.11.0)\n",
            "Requirement already satisfied: pyparsing!=2.0.4,!=2.1.2,!=2.1.6,>=2.0.1 in /usr/local/lib/python3.7/dist-packages (from matplotlib!=3.0.0,>=2.0.0->scikit-image==0.18.1->-r requirements.txt (line 3)) (3.0.7)\n",
            "Requirement already satisfied: typing-extensions in /usr/local/lib/python3.7/dist-packages (from kiwisolver>=1.0.1->matplotlib!=3.0.0,>=2.0.0->scikit-image==0.18.1->-r requirements.txt (line 3)) (3.10.0.2)\n",
            "Collecting nbclassic~=0.2\n",
            "  Downloading nbclassic-0.3.7-py3-none-any.whl (13 kB)\n",
            "Collecting tornado>=6.1.0\n",
            "  Downloading tornado-6.1-cp37-cp37m-manylinux2010_x86_64.whl (428 kB)\n",
            "\u001b[K     |████████████████████████████████| 428 kB 46.1 MB/s \n",
            "\u001b[?25hCollecting jupyter-server~=1.4\n",
            "  Downloading jupyter_server-1.16.0-py3-none-any.whl (343 kB)\n",
            "\u001b[K     |████████████████████████████████| 343 kB 43.5 MB/s \n",
            "\u001b[?25hRequirement already satisfied: jupyter-core in /usr/local/lib/python3.7/dist-packages (from jupyterlab->-r requirements.txt (line 11)) (4.9.2)\n",
            "Requirement already satisfied: jinja2>=2.1 in /usr/local/lib/python3.7/dist-packages (from jupyterlab->-r requirements.txt (line 11)) (2.11.3)\n",
            "Requirement already satisfied: ipython in /usr/local/lib/python3.7/dist-packages (from jupyterlab->-r requirements.txt (line 11)) (5.5.0)\n",
            "Collecting jupyterlab-server~=2.10\n",
            "  Downloading jupyterlab_server-2.12.0-py3-none-any.whl (53 kB)\n",
            "\u001b[K     |████████████████████████████████| 53 kB 2.1 MB/s \n",
            "\u001b[?25hRequirement already satisfied: packaging in /usr/local/lib/python3.7/dist-packages (from jupyterlab->-r requirements.txt (line 11)) (21.3)\n",
            "Requirement already satisfied: MarkupSafe>=0.23 in /usr/local/lib/python3.7/dist-packages (from jinja2>=2.1->jupyterlab->-r requirements.txt (line 11)) (2.0.1)\n",
            "Requirement already satisfied: prometheus-client in /usr/local/lib/python3.7/dist-packages (from jupyter-server~=1.4->jupyterlab->-r requirements.txt (line 11)) (0.13.1)\n",
            "Collecting jupyter-client>=6.1.12\n",
            "  Downloading jupyter_client-7.2.1-py3-none-any.whl (130 kB)\n",
            "\u001b[K     |████████████████████████████████| 130 kB 25.6 MB/s \n",
            "\u001b[?25hCollecting nbconvert>=6.4.4\n",
            "  Downloading nbconvert-6.4.5-py3-none-any.whl (561 kB)\n",
            "\u001b[K     |████████████████████████████████| 561 kB 45.9 MB/s \n",
            "\u001b[?25hCollecting websocket-client\n",
            "  Downloading websocket_client-1.3.2-py3-none-any.whl (54 kB)\n",
            "\u001b[K     |████████████████████████████████| 54 kB 1.9 MB/s \n",
            "\u001b[?25hRequirement already satisfied: terminado>=0.8.3 in /usr/local/lib/python3.7/dist-packages (from jupyter-server~=1.4->jupyterlab->-r requirements.txt (line 11)) (0.13.3)\n",
            "Requirement already satisfied: traitlets>=5.1.0 in /usr/local/lib/python3.7/dist-packages (from jupyter-server~=1.4->jupyterlab->-r requirements.txt (line 11)) (5.1.1)\n",
            "Requirement already satisfied: Send2Trash in /usr/local/lib/python3.7/dist-packages (from jupyter-server~=1.4->jupyterlab->-r requirements.txt (line 11)) (1.8.0)\n",
            "Requirement already satisfied: pyzmq>=17 in /usr/local/lib/python3.7/dist-packages (from jupyter-server~=1.4->jupyterlab->-r requirements.txt (line 11)) (22.3.0)\n",
            "Requirement already satisfied: nbformat>=5.2.0 in /usr/local/lib/python3.7/dist-packages (from jupyter-server~=1.4->jupyterlab->-r requirements.txt (line 11)) (5.2.0)\n",
            "Collecting anyio>=3.1.0\n",
            "  Downloading anyio-3.5.0-py3-none-any.whl (79 kB)\n",
            "\u001b[K     |████████████████████████████████| 79 kB 8.2 MB/s \n",
            "\u001b[?25hRequirement already satisfied: argon2-cffi in /usr/local/lib/python3.7/dist-packages (from jupyter-server~=1.4->jupyterlab->-r requirements.txt (line 11)) (21.3.0)\n",
            "Collecting sniffio>=1.1\n",
            "  Downloading sniffio-1.2.0-py3-none-any.whl (10 kB)\n",
            "Requirement already satisfied: idna>=2.8 in /usr/local/lib/python3.7/dist-packages (from anyio>=3.1.0->jupyter-server~=1.4->jupyterlab->-r requirements.txt (line 11)) (2.10)\n",
            "Requirement already satisfied: nest-asyncio>=1.5.4 in /usr/local/lib/python3.7/dist-packages (from jupyter-client>=6.1.12->jupyter-server~=1.4->jupyterlab->-r requirements.txt (line 11)) (1.5.4)\n",
            "Requirement already satisfied: entrypoints in /usr/local/lib/python3.7/dist-packages (from jupyter-client>=6.1.12->jupyter-server~=1.4->jupyterlab->-r requirements.txt (line 11)) (0.4)\n",
            "Requirement already satisfied: requests in /usr/local/lib/python3.7/dist-packages (from jupyterlab-server~=2.10->jupyterlab->-r requirements.txt (line 11)) (2.23.0)\n",
            "Requirement already satisfied: babel in /usr/local/lib/python3.7/dist-packages (from jupyterlab-server~=2.10->jupyterlab->-r requirements.txt (line 11)) (2.9.1)\n",
            "Collecting json5\n",
            "  Downloading json5-0.9.6-py2.py3-none-any.whl (18 kB)\n",
            "Collecting jinja2>=2.1\n",
            "  Downloading Jinja2-3.1.1-py3-none-any.whl (132 kB)\n",
            "\u001b[K     |████████████████████████████████| 132 kB 48.5 MB/s \n",
            "\u001b[?25hRequirement already satisfied: jsonschema>=3.0.1 in /usr/local/lib/python3.7/dist-packages (from jupyterlab-server~=2.10->jupyterlab->-r requirements.txt (line 11)) (4.3.3)\n",
            "Requirement already satisfied: pyrsistent!=0.17.0,!=0.17.1,!=0.17.2,>=0.14.0 in /usr/local/lib/python3.7/dist-packages (from jsonschema>=3.0.1->jupyterlab-server~=2.10->jupyterlab->-r requirements.txt (line 11)) (0.18.1)\n",
            "Requirement already satisfied: importlib-resources>=1.4.0 in /usr/local/lib/python3.7/dist-packages (from jsonschema>=3.0.1->jupyterlab-server~=2.10->jupyterlab->-r requirements.txt (line 11)) (5.4.0)\n",
            "Requirement already satisfied: attrs>=17.4.0 in /usr/local/lib/python3.7/dist-packages (from jsonschema>=3.0.1->jupyterlab-server~=2.10->jupyterlab->-r requirements.txt (line 11)) (21.4.0)\n",
            "Requirement already satisfied: importlib-metadata in /usr/local/lib/python3.7/dist-packages (from jsonschema>=3.0.1->jupyterlab-server~=2.10->jupyterlab->-r requirements.txt (line 11)) (4.11.3)\n",
            "Requirement already satisfied: zipp>=3.1.0 in /usr/local/lib/python3.7/dist-packages (from importlib-resources>=1.4.0->jsonschema>=3.0.1->jupyterlab-server~=2.10->jupyterlab->-r requirements.txt (line 11)) (3.7.0)\n",
            "Collecting notebook-shim>=0.1.0\n",
            "  Downloading notebook_shim-0.1.0-py3-none-any.whl (13 kB)\n",
            "Requirement already satisfied: notebook<7 in /usr/local/lib/python3.7/dist-packages (from nbclassic~=0.2->jupyterlab->-r requirements.txt (line 11)) (5.3.1)\n",
            "Requirement already satisfied: jupyterlab-pygments in /usr/local/lib/python3.7/dist-packages (from nbconvert>=6.4.4->jupyter-server~=1.4->jupyterlab->-r requirements.txt (line 11)) (0.1.2)\n",
            "Requirement already satisfied: testpath in /usr/local/lib/python3.7/dist-packages (from nbconvert>=6.4.4->jupyter-server~=1.4->jupyterlab->-r requirements.txt (line 11)) (0.6.0)\n",
            "Requirement already satisfied: pygments>=2.4.1 in /usr/local/lib/python3.7/dist-packages (from nbconvert>=6.4.4->jupyter-server~=1.4->jupyterlab->-r requirements.txt (line 11)) (2.6.1)\n",
            "Requirement already satisfied: bleach in /usr/local/lib/python3.7/dist-packages (from nbconvert>=6.4.4->jupyter-server~=1.4->jupyterlab->-r requirements.txt (line 11)) (4.1.0)\n",
            "Requirement already satisfied: beautifulsoup4 in /usr/local/lib/python3.7/dist-packages (from nbconvert>=6.4.4->jupyter-server~=1.4->jupyterlab->-r requirements.txt (line 11)) (4.6.3)\n",
            "Requirement already satisfied: pandocfilters>=1.4.1 in /usr/local/lib/python3.7/dist-packages (from nbconvert>=6.4.4->jupyter-server~=1.4->jupyterlab->-r requirements.txt (line 11)) (1.5.0)\n",
            "Requirement already satisfied: mistune<2,>=0.8.1 in /usr/local/lib/python3.7/dist-packages (from nbconvert>=6.4.4->jupyter-server~=1.4->jupyterlab->-r requirements.txt (line 11)) (0.8.4)\n",
            "Requirement already satisfied: defusedxml in /usr/local/lib/python3.7/dist-packages (from nbconvert>=6.4.4->jupyter-server~=1.4->jupyterlab->-r requirements.txt (line 11)) (0.7.1)\n",
            "Requirement already satisfied: nbclient<0.6.0,>=0.5.0 in /usr/local/lib/python3.7/dist-packages (from nbconvert>=6.4.4->jupyter-server~=1.4->jupyterlab->-r requirements.txt (line 11)) (0.5.13)\n",
            "Requirement already satisfied: ipython-genutils in /usr/local/lib/python3.7/dist-packages (from notebook<7->nbclassic~=0.2->jupyterlab->-r requirements.txt (line 11)) (0.2.0)\n",
            "Requirement already satisfied: ipykernel in /usr/local/lib/python3.7/dist-packages (from notebook<7->nbclassic~=0.2->jupyterlab->-r requirements.txt (line 11)) (4.10.1)\n",
            "Requirement already satisfied: ptyprocess in /usr/local/lib/python3.7/dist-packages (from terminado>=0.8.3->jupyter-server~=1.4->jupyterlab->-r requirements.txt (line 11)) (0.7.0)\n",
            "Requirement already satisfied: argon2-cffi-bindings in /usr/local/lib/python3.7/dist-packages (from argon2-cffi->jupyter-server~=1.4->jupyterlab->-r requirements.txt (line 11)) (21.2.0)\n",
            "Requirement already satisfied: cffi>=1.0.1 in /usr/local/lib/python3.7/dist-packages (from argon2-cffi-bindings->argon2-cffi->jupyter-server~=1.4->jupyterlab->-r requirements.txt (line 11)) (1.15.0)\n",
            "Requirement already satisfied: pycparser in /usr/local/lib/python3.7/dist-packages (from cffi>=1.0.1->argon2-cffi-bindings->argon2-cffi->jupyter-server~=1.4->jupyterlab->-r requirements.txt (line 11)) (2.21)\n",
            "Requirement already satisfied: pytz>=2015.7 in /usr/local/lib/python3.7/dist-packages (from babel->jupyterlab-server~=2.10->jupyterlab->-r requirements.txt (line 11)) (2018.9)\n",
            "Requirement already satisfied: webencodings in /usr/local/lib/python3.7/dist-packages (from bleach->nbconvert>=6.4.4->jupyter-server~=1.4->jupyterlab->-r requirements.txt (line 11)) (0.5.1)\n",
            "Requirement already satisfied: simplegeneric>0.8 in /usr/local/lib/python3.7/dist-packages (from ipython->jupyterlab->-r requirements.txt (line 11)) (0.8.1)\n",
            "Requirement already satisfied: pexpect in /usr/local/lib/python3.7/dist-packages (from ipython->jupyterlab->-r requirements.txt (line 11)) (4.8.0)\n",
            "Requirement already satisfied: prompt-toolkit<2.0.0,>=1.0.4 in /usr/local/lib/python3.7/dist-packages (from ipython->jupyterlab->-r requirements.txt (line 11)) (1.0.18)\n",
            "Requirement already satisfied: decorator in /usr/local/lib/python3.7/dist-packages (from ipython->jupyterlab->-r requirements.txt (line 11)) (4.4.2)\n",
            "Requirement already satisfied: pickleshare in /usr/local/lib/python3.7/dist-packages (from ipython->jupyterlab->-r requirements.txt (line 11)) (0.7.5)\n",
            "Requirement already satisfied: setuptools>=18.5 in /usr/local/lib/python3.7/dist-packages (from ipython->jupyterlab->-r requirements.txt (line 11)) (57.4.0)\n",
            "Requirement already satisfied: wcwidth in /usr/local/lib/python3.7/dist-packages (from prompt-toolkit<2.0.0,>=1.0.4->ipython->jupyterlab->-r requirements.txt (line 11)) (0.2.5)\n",
            "Requirement already satisfied: chardet<4,>=3.0.2 in /usr/local/lib/python3.7/dist-packages (from requests->jupyterlab-server~=2.10->jupyterlab->-r requirements.txt (line 11)) (3.0.4)\n",
            "Requirement already satisfied: urllib3!=1.25.0,!=1.25.1,<1.26,>=1.21.1 in /usr/local/lib/python3.7/dist-packages (from requests->jupyterlab-server~=2.10->jupyterlab->-r requirements.txt (line 11)) (1.24.3)\n",
            "Requirement already satisfied: certifi>=2017.4.17 in /usr/local/lib/python3.7/dist-packages (from requests->jupyterlab-server~=2.10->jupyterlab->-r requirements.txt (line 11)) (2021.10.8)\n",
            "Building wheels for collected packages: ptflops\n",
            "  Building wheel for ptflops (setup.py) ... \u001b[?25l\u001b[?25hdone\n",
            "  Created wheel for ptflops: filename=ptflops-0.6.4-py3-none-any.whl size=8570 sha256=f6edda200a73ac9002701ced0d176ebfd8ecf234ba43ab98799b7193357ec94f\n",
            "  Stored in directory: /root/.cache/pip/wheels/e5/38/04/bb612fa75504476c09399ae5b7bda8567192cd16503329ad2c\n",
            "Successfully built ptflops\n",
            "Installing collected packages: tornado, jupyter-client, sniffio, jinja2, websocket-client, nbconvert, anyio, jupyter-server, scipy, notebook-shim, json5, scikit-learn, pytorch-ranger, nbclassic, jupyterlab-server, tqdm, torch-optimizer, tensorboardX, scikit-image, ptflops, jupyterlab\n",
            "  Attempting uninstall: tornado\n",
            "    Found existing installation: tornado 5.1.1\n",
            "    Uninstalling tornado-5.1.1:\n",
            "      Successfully uninstalled tornado-5.1.1\n",
            "  Attempting uninstall: jupyter-client\n",
            "    Found existing installation: jupyter-client 5.3.5\n",
            "    Uninstalling jupyter-client-5.3.5:\n",
            "      Successfully uninstalled jupyter-client-5.3.5\n",
            "  Attempting uninstall: jinja2\n",
            "    Found existing installation: Jinja2 2.11.3\n",
            "    Uninstalling Jinja2-2.11.3:\n",
            "      Successfully uninstalled Jinja2-2.11.3\n",
            "  Attempting uninstall: nbconvert\n",
            "    Found existing installation: nbconvert 5.6.1\n",
            "    Uninstalling nbconvert-5.6.1:\n",
            "      Successfully uninstalled nbconvert-5.6.1\n",
            "  Attempting uninstall: scipy\n",
            "    Found existing installation: scipy 1.4.1\n",
            "    Uninstalling scipy-1.4.1:\n",
            "      Successfully uninstalled scipy-1.4.1\n",
            "  Attempting uninstall: scikit-learn\n",
            "    Found existing installation: scikit-learn 1.0.2\n",
            "    Uninstalling scikit-learn-1.0.2:\n",
            "      Successfully uninstalled scikit-learn-1.0.2\n",
            "  Attempting uninstall: tqdm\n",
            "    Found existing installation: tqdm 4.63.0\n",
            "    Uninstalling tqdm-4.63.0:\n",
            "      Successfully uninstalled tqdm-4.63.0\n",
            "  Attempting uninstall: scikit-image\n",
            "    Found existing installation: scikit-image 0.18.3\n",
            "    Uninstalling scikit-image-0.18.3:\n",
            "      Successfully uninstalled scikit-image-0.18.3\n",
            "\u001b[31mERROR: pip's dependency resolver does not currently take into account all the packages that are installed. This behaviour is the source of the following dependency conflicts.\n",
            "yellowbrick 1.4 requires scikit-learn>=1.0.0, but you have scikit-learn 0.24.1 which is incompatible.\n",
            "google-colab 1.0.0 requires tornado~=5.1.0; python_version >= \"3.0\", but you have tornado 6.1 which is incompatible.\n",
            "flask 1.1.4 requires Jinja2<3.0,>=2.10.1, but you have jinja2 3.1.1 which is incompatible.\n",
            "datascience 0.10.6 requires folium==0.2.1, but you have folium 0.8.3 which is incompatible.\n",
            "albumentations 0.1.12 requires imgaug<0.2.7,>=0.2.5, but you have imgaug 0.2.9 which is incompatible.\u001b[0m\n",
            "Successfully installed anyio-3.5.0 jinja2-3.1.1 json5-0.9.6 jupyter-client-7.2.1 jupyter-server-1.16.0 jupyterlab-3.3.2 jupyterlab-server-2.12.0 nbclassic-0.3.7 nbconvert-6.4.5 notebook-shim-0.1.0 ptflops-0.6.4 pytorch-ranger-0.1.1 scikit-image-0.18.1 scikit-learn-0.24.1 scipy-1.6.0 sniffio-1.2.0 tensorboardX-2.1 torch-optimizer-0.1.0 tornado-6.1 tqdm-4.56.0 websocket-client-1.3.2\n"
          ]
        },
        {
          "output_type": "display_data",
          "data": {
            "application/vnd.colab-display-data+json": {
              "pip_warning": {
                "packages": [
                  "jupyter_client",
                  "tornado"
                ]
              }
            }
          },
          "metadata": {}
        }
      ]
    },
    {
      "cell_type": "code",
      "source": [
        "!pip install flask_ngrok\n",
        "!pip install flask_cors\n",
        "!pip install easyocr\n",
        "!pip install fuzzywuzzy\n",
        "!pip uninstall opencv-python-headless==4.5.5.62\n",
        "!pip install opencv-python-headless==4.1.2.30\n",
        "! pip install pyngrok\n",
        "!ngrok authtoken 27FiQB1vi2hcygKvU7WShNlzG4T_4rpAEtdekYDas7tM4mbxZ"
      ],
      "metadata": {
        "colab": {
          "base_uri": "https://localhost:8080/"
        },
        "id": "e9Og80DRmvyz",
        "outputId": "3df61db5-cd5c-419c-d26e-27d6a83a30ba"
      },
      "execution_count": 2,
      "outputs": [
        {
          "output_type": "stream",
          "name": "stdout",
          "text": [
            "Requirement already satisfied: flask_ngrok in /usr/local/lib/python3.7/dist-packages (0.0.25)\n",
            "Requirement already satisfied: Flask>=0.8 in /usr/local/lib/python3.7/dist-packages (from flask_ngrok) (1.1.4)\n",
            "Requirement already satisfied: requests in /usr/local/lib/python3.7/dist-packages (from flask_ngrok) (2.23.0)\n",
            "Requirement already satisfied: Werkzeug<2.0,>=0.15 in /usr/local/lib/python3.7/dist-packages (from Flask>=0.8->flask_ngrok) (1.0.1)\n",
            "Requirement already satisfied: itsdangerous<2.0,>=0.24 in /usr/local/lib/python3.7/dist-packages (from Flask>=0.8->flask_ngrok) (1.1.0)\n",
            "Requirement already satisfied: click<8.0,>=5.1 in /usr/local/lib/python3.7/dist-packages (from Flask>=0.8->flask_ngrok) (7.1.2)\n",
            "Requirement already satisfied: Jinja2<3.0,>=2.10.1 in /usr/local/lib/python3.7/dist-packages (from Flask>=0.8->flask_ngrok) (2.11.3)\n",
            "Requirement already satisfied: MarkupSafe>=0.23 in /usr/local/lib/python3.7/dist-packages (from Jinja2<3.0,>=2.10.1->Flask>=0.8->flask_ngrok) (2.0.1)\n",
            "Requirement already satisfied: certifi>=2017.4.17 in /usr/local/lib/python3.7/dist-packages (from requests->flask_ngrok) (2021.10.8)\n",
            "Requirement already satisfied: chardet<4,>=3.0.2 in /usr/local/lib/python3.7/dist-packages (from requests->flask_ngrok) (3.0.4)\n",
            "Requirement already satisfied: urllib3!=1.25.0,!=1.25.1,<1.26,>=1.21.1 in /usr/local/lib/python3.7/dist-packages (from requests->flask_ngrok) (1.24.3)\n",
            "Requirement already satisfied: idna<3,>=2.5 in /usr/local/lib/python3.7/dist-packages (from requests->flask_ngrok) (2.10)\n",
            "Requirement already satisfied: flask_cors in /usr/local/lib/python3.7/dist-packages (3.0.10)\n",
            "Requirement already satisfied: Flask>=0.9 in /usr/local/lib/python3.7/dist-packages (from flask_cors) (1.1.4)\n",
            "Requirement already satisfied: Six in /usr/local/lib/python3.7/dist-packages (from flask_cors) (1.15.0)\n",
            "Requirement already satisfied: click<8.0,>=5.1 in /usr/local/lib/python3.7/dist-packages (from Flask>=0.9->flask_cors) (7.1.2)\n",
            "Requirement already satisfied: itsdangerous<2.0,>=0.24 in /usr/local/lib/python3.7/dist-packages (from Flask>=0.9->flask_cors) (1.1.0)\n",
            "Requirement already satisfied: Werkzeug<2.0,>=0.15 in /usr/local/lib/python3.7/dist-packages (from Flask>=0.9->flask_cors) (1.0.1)\n",
            "Requirement already satisfied: Jinja2<3.0,>=2.10.1 in /usr/local/lib/python3.7/dist-packages (from Flask>=0.9->flask_cors) (2.11.3)\n",
            "Requirement already satisfied: MarkupSafe>=0.23 in /usr/local/lib/python3.7/dist-packages (from Jinja2<3.0,>=2.10.1->Flask>=0.9->flask_cors) (2.0.1)\n",
            "Requirement already satisfied: easyocr in /usr/local/lib/python3.7/dist-packages (1.4.1)\n",
            "Requirement already satisfied: scipy in /usr/local/lib/python3.7/dist-packages (from easyocr) (1.6.0)\n",
            "Requirement already satisfied: numpy in /usr/local/lib/python3.7/dist-packages (from easyocr) (1.21.5)\n",
            "Requirement already satisfied: opencv-python-headless in /usr/local/lib/python3.7/dist-packages (from easyocr) (4.1.2.30)\n",
            "Requirement already satisfied: scikit-image in /usr/local/lib/python3.7/dist-packages (from easyocr) (0.18.1)\n",
            "Requirement already satisfied: torch in /usr/local/lib/python3.7/dist-packages (from easyocr) (1.10.0+cu111)\n",
            "Requirement already satisfied: torchvision>=0.5 in /usr/local/lib/python3.7/dist-packages (from easyocr) (0.11.1+cu111)\n",
            "Requirement already satisfied: python-bidi in /usr/local/lib/python3.7/dist-packages (from easyocr) (0.4.2)\n",
            "Requirement already satisfied: PyYAML in /usr/local/lib/python3.7/dist-packages (from easyocr) (3.13)\n",
            "Requirement already satisfied: Pillow<8.3.0 in /usr/local/lib/python3.7/dist-packages (from easyocr) (7.1.2)\n",
            "Requirement already satisfied: typing-extensions in /usr/local/lib/python3.7/dist-packages (from torch->easyocr) (3.10.0.2)\n",
            "Requirement already satisfied: six in /usr/local/lib/python3.7/dist-packages (from python-bidi->easyocr) (1.15.0)\n",
            "Requirement already satisfied: networkx>=2.0 in /usr/local/lib/python3.7/dist-packages (from scikit-image->easyocr) (2.6.3)\n",
            "Requirement already satisfied: PyWavelets>=1.1.1 in /usr/local/lib/python3.7/dist-packages (from scikit-image->easyocr) (1.3.0)\n",
            "Requirement already satisfied: imageio>=2.3.0 in /usr/local/lib/python3.7/dist-packages (from scikit-image->easyocr) (2.4.1)\n",
            "Requirement already satisfied: matplotlib!=3.0.0,>=2.0.0 in /usr/local/lib/python3.7/dist-packages (from scikit-image->easyocr) (3.2.2)\n",
            "Requirement already satisfied: tifffile>=2019.7.26 in /usr/local/lib/python3.7/dist-packages (from scikit-image->easyocr) (2021.11.2)\n",
            "Requirement already satisfied: pyparsing!=2.0.4,!=2.1.2,!=2.1.6,>=2.0.1 in /usr/local/lib/python3.7/dist-packages (from matplotlib!=3.0.0,>=2.0.0->scikit-image->easyocr) (3.0.7)\n",
            "Requirement already satisfied: python-dateutil>=2.1 in /usr/local/lib/python3.7/dist-packages (from matplotlib!=3.0.0,>=2.0.0->scikit-image->easyocr) (2.8.2)\n",
            "Requirement already satisfied: kiwisolver>=1.0.1 in /usr/local/lib/python3.7/dist-packages (from matplotlib!=3.0.0,>=2.0.0->scikit-image->easyocr) (1.4.0)\n",
            "Requirement already satisfied: cycler>=0.10 in /usr/local/lib/python3.7/dist-packages (from matplotlib!=3.0.0,>=2.0.0->scikit-image->easyocr) (0.11.0)\n",
            "Requirement already satisfied: fuzzywuzzy in /usr/local/lib/python3.7/dist-packages (0.18.0)\n",
            "Found existing installation: opencv-python-headless 4.1.2.30\n",
            "Uninstalling opencv-python-headless-4.1.2.30:\n",
            "  Would remove:\n",
            "    /usr/local/lib/python3.7/dist-packages/cv2/*\n",
            "    /usr/local/lib/python3.7/dist-packages/opencv_python_headless-4.1.2.30.dist-info/*\n",
            "  Would not remove (might be manually added):\n",
            "    /usr/local/lib/python3.7/dist-packages/cv2/.libs/libQtCore-bbdab771.so.4.8.7\n",
            "    /usr/local/lib/python3.7/dist-packages/cv2/.libs/libQtGui-903938cd.so.4.8.7\n",
            "    /usr/local/lib/python3.7/dist-packages/cv2/.libs/libQtTest-1183da5d.so.4.8.7\n",
            "Proceed (y/n)? y\n",
            "  Successfully uninstalled opencv-python-headless-4.1.2.30\n",
            "Collecting opencv-python-headless==4.1.2.30\n",
            "  Using cached opencv_python_headless-4.1.2.30-cp37-cp37m-manylinux1_x86_64.whl (21.8 MB)\n",
            "Requirement already satisfied: numpy>=1.14.5 in /usr/local/lib/python3.7/dist-packages (from opencv-python-headless==4.1.2.30) (1.21.5)\n",
            "Installing collected packages: opencv-python-headless\n",
            "Successfully installed opencv-python-headless-4.1.2.30\n",
            "Requirement already satisfied: pyngrok in /usr/local/lib/python3.7/dist-packages (5.1.0)\n",
            "Requirement already satisfied: PyYAML in /usr/local/lib/python3.7/dist-packages (from pyngrok) (3.13)\n",
            "Authtoken saved to configuration file: /root/.ngrok2/ngrok.yml\n"
          ]
        }
      ]
    },
    {
      "cell_type": "code",
      "source": [
        "import nltk\n",
        "nltk.download('punkt')\n",
        "nltk.download('averaged_perceptron_tagger')"
      ],
      "metadata": {
        "colab": {
          "base_uri": "https://localhost:8080/"
        },
        "id": "QUZLf9Z7nGuN",
        "outputId": "0e5b421c-e932-4e3a-c88d-f1c602ce01f7"
      },
      "execution_count": 3,
      "outputs": [
        {
          "output_type": "stream",
          "name": "stdout",
          "text": [
            "[nltk_data] Downloading package punkt to /root/nltk_data...\n",
            "[nltk_data]   Unzipping tokenizers/punkt.zip.\n",
            "[nltk_data] Downloading package averaged_perceptron_tagger to\n",
            "[nltk_data]     /root/nltk_data...\n",
            "[nltk_data]   Unzipping taggers/averaged_perceptron_tagger.zip.\n"
          ]
        },
        {
          "output_type": "execute_result",
          "data": {
            "text/plain": [
              "True"
            ]
          },
          "metadata": {},
          "execution_count": 3
        }
      ]
    },
    {
      "cell_type": "markdown",
      "source": [
        "# IFAN"
      ],
      "metadata": {
        "id": "Es9U0tcaqkeK"
      }
    },
    {
      "cell_type": "code",
      "source": [
        "%cd /content/drive/MyDrive/Mini_Project_Sem_VI/Final/IFAN\n",
        "\n",
        "import torch\n",
        "\n",
        "import numpy as np\n",
        "from google.colab.patches import cv2_imshow\n",
        "import cv2\n",
        "import datetime\n",
        "\n",
        "from configs.config_IFAN import get_config\n",
        "from ckpt_manager import CKPT_Manager\n",
        "from models import create_model\n",
        "\n",
        "from utils import *\n",
        "\n",
        "input_offset = 'demo/'\n",
        "\n",
        "config = get_config('IFAN_CVPR2021', 'IFAN', 'config_IFAN')\n",
        "config.network = 'IFAN'\n",
        "model = create_model(config)\n",
        "network = model.get_network().eval()\n",
        "\n",
        "ckpt_manager = CKPT_Manager(root_dir='', model_name='IFAN')\n",
        "load_state, ckpt_name = ckpt_manager.load_ckpt(network, abs_name = './ckpt/IFAN.pytorch')\n",
        "print('\\nLoading checkpoint \\'{}\\' on model \\'{}\\': {}\\n'.format(ckpt_name, config.mode, load_state))"
      ],
      "metadata": {
        "colab": {
          "base_uri": "https://localhost:8080/"
        },
        "id": "9DMe4dKGq34p",
        "outputId": "c495e552-b99b-4dd7-a645-012371dffa50"
      },
      "execution_count": 4,
      "outputs": [
        {
          "output_type": "stream",
          "name": "stdout",
          "text": [
            "/content/drive/MyDrive/Mini_Project_Sem_VI/Final/IFAN\n",
            "\u001b[1m\u001b[32mLoading Model...\u001b[0m\n",
            "\u001b[1m\u001b[31m\tinitializing deblurring network\u001b[0m\n",
            "Warning! No positional inputs found for a module, assuming batch size is 1.\n",
            "\u001b[1m\u001b[32mComputing model complexity...\u001b[0m\n",
            "\u001b[1m\u001b[31m\tComputational complexity (Macs):   419.517864 B\u001b[0m\n",
            "\u001b[1m\u001b[31m\tNumber of parameters:           10.476996 M\u001b[0m\n",
            "\n",
            "Loading checkpoint 'IFAN.pytorch' on model 'IFAN': _IncompatibleKeys(missing_keys=[], unexpected_keys=['module.reblurNet.RBF.0.0.weight', 'module.reblurNet.RBF.0.0.bias', 'module.reblurNet.RBF.1.stem.0.0.weight', 'module.reblurNet.RBF.1.stem.0.0.bias', 'module.reblurNet.RBF.1.stem.0.2.weight', 'module.reblurNet.RBF.1.stem.0.2.bias', 'module.reblurNet.RBF.1.stem.1.0.weight', 'module.reblurNet.RBF.1.stem.1.0.bias', 'module.reblurNet.RBF.1.stem.1.2.weight', 'module.reblurNet.RBF.1.stem.1.2.bias', 'module.reblurNet.RBF.2.stem.0.0.weight', 'module.reblurNet.RBF.2.stem.0.0.bias', 'module.reblurNet.RBF.2.stem.0.2.weight', 'module.reblurNet.RBF.2.stem.0.2.bias', 'module.reblurNet.RBF.2.stem.1.0.weight', 'module.reblurNet.RBF.2.stem.1.0.bias', 'module.reblurNet.RBF.2.stem.1.2.weight', 'module.reblurNet.RBF.2.stem.1.2.bias', 'module.reblurNet.RBF.3.weight', 'module.reblurNet.RBF.3.bias'])\n",
            "\n"
          ]
        }
      ]
    },
    {
      "cell_type": "code",
      "source": [
        "import os, shutil\n",
        "def folderCleaner(folder):\n",
        "  for filename in os.listdir(folder):\n",
        "      file_path = os.path.join(folder, filename)\n",
        "      try:\n",
        "          if os.path.isfile(file_path) or os.path.islink(file_path):\n",
        "              os.unlink(file_path)\n",
        "          elif os.path.isdir(file_path):\n",
        "              shutil.rmtree(file_path)\n",
        "      except Exception as e:\n",
        "          print('Failed to delete %s. Reason: %s' % (file_path, e))"
      ],
      "metadata": {
        "id": "3fFFWKO8d0Gi"
      },
      "execution_count": 5,
      "outputs": []
    },
    {
      "cell_type": "code",
      "source": [
        "from data_loader.utils import load_file_list, refine_image, read_frame"
      ],
      "metadata": {
        "id": "HTYpaMd3lYhW"
      },
      "execution_count": 6,
      "outputs": []
    },
    {
      "cell_type": "code",
      "source": [
        "\n",
        "\n",
        "# imgName = 'Blurred.jpg'\n",
        "\n",
        "def deblurX(imgName):\n",
        "\n",
        "  \n",
        "\n",
        "  input_offset = '/content/drive/MyDrive/Mini_Project_Sem_VI/Final/IFAN/demo/'\n",
        "  img = cv2.imread(f'/content/drive/MyDrive/Mini_Project_Sem_VI/Final/Medical-Image-Cleaner-Anony/WebApp/static/newFolder/{imgName}')\n",
        "  \n",
        "  aspect_ratio = img.shape[1]/img.shape[0]\n",
        "  height = int(500/aspect_ratio)\n",
        "  img_copy = cv2.resize(img,(500,height))\n",
        "  var = cv2.Laplacian(img_copy, cv2.CV_64F).var()    \n",
        "  \n",
        "  print(var)\n",
        "\n",
        "  if var < 500:\n",
        "    \n",
        "    print(\"Going In....\")\n",
        "\n",
        "    folderCleaner(\"/content/drive/MyDrive/Mini_Project_Sem_VI/Final/IFAN/demo/input\")\n",
        "    folderCleaner(\"/content/drive/MyDrive/Mini_Project_Sem_VI/Final/IFAN/demo/input_user\")\n",
        "    shutil.move(f'/content/drive/MyDrive/Mini_Project_Sem_VI/Final/Medical-Image-Cleaner-Anony/WebApp/static/newFolder/{imgName}',f'/content/drive/MyDrive/Mini_Project_Sem_VI/Final/IFAN/demo/input_user/{imgName}')\n",
        "    # print(toGreen('Reading Input(s)...'))\n",
        "    _, input_path_list, _ = load_file_list(input_offset, None, is_flatten=True)\n",
        "\n",
        "    print(f\"It is {input_path_list}\")\n",
        "\n",
        "    max_side = 1920 \n",
        "    for i, input_path in enumerate(input_path_list):\n",
        "        C_cpu = read_frame(input_path, config.norm_val, None)\n",
        "        # resize image if max side exceeds 1920 (due to GPU mem)\n",
        "        b, h, w, c = C_cpu.shape\n",
        "        if max(h, w) > max_side:\n",
        "            scale_ratio = max_side / max(h, w)\n",
        "            C_cpu = np.expand_dims(cv2.resize(C_cpu[0], dsize=(int(w*scale_ratio), int(h*scale_ratio)), interpolation=cv2.INTER_AREA), 0)\n",
        "\n",
        "        C = torch.FloatTensor(refine_image(C_cpu, config.refine_val).transpose(0, 3, 1, 2).copy()).cuda()\n",
        "        \n",
        "        ## running network\n",
        "        init_time = time.time()\n",
        "        with torch.no_grad():\n",
        "            out = network(C, is_train=False)\n",
        "        itr_time = time.time() - init_time\n",
        "        print(toGreen('\\n[EVAL {}][{:02}/{:02}] {}'.format(config.mode, i + 1, len(input_path_list), os.path.basename(input_path))))\n",
        "\n",
        "        # display\n",
        "        input_cpu = C_cpu[0]\n",
        "        output = out['result']\n",
        "        output_cpu = output.cpu().numpy()[0].transpose(1, 2, 0)\n",
        "        \n",
        "\n",
        "        # ogImage = np.flip(input_cpu*255., 2).astype(np.uint8)\n",
        "        deBlurred = np.flip(output_cpu*255., 2).astype(np.uint8)\n",
        "\n",
        "    return deBlurred\n",
        "\n",
        "  else:\n",
        "    cv2.imwrite(f'/content/drive/MyDrive/Mini_Project_Sem_VI/Final/Medical-Image-Cleaner-Anony/WebApp/static/receivedImages/{imgName}',img)\n",
        "    return img\n"
      ],
      "metadata": {
        "id": "f6-F-8kMrsbB"
      },
      "execution_count": 7,
      "outputs": []
    },
    {
      "cell_type": "markdown",
      "source": [
        "# Ours"
      ],
      "metadata": {
        "id": "EPRDdwTKqmSk"
      }
    },
    {
      "cell_type": "code",
      "source": [
        "%cd /content/drive/MyDrive/Mini_Project_Sem_VI/Final/Medical-Image-Cleaner-Anony/WebApp\n",
        "from flask_ngrok import run_with_ngrok\n",
        "from zipfile import ZipFile\n",
        "import os\n",
        "from os import mkdir\n",
        "from flask import Flask, request, render_template, jsonify, send_file\n",
        "from flask_cors import CORS\n",
        "import datetime,time\n",
        "from anonymize import OCR,fuzzy_matching,NLP,batchAnonymize\n",
        "\n",
        "app = Flask(__name__)\n",
        "CORS(app)\n",
        "\n",
        "final_coor = []\n",
        "temp_list = []\n",
        "new_text = []\n",
        "image = []\n",
        "\n",
        "\n",
        "\n",
        "\n",
        "@app.route('/', methods= ['GET', 'POST'])\n",
        "def lander():\n",
        "\n",
        "    if request.form:\n",
        "            \n",
        "        if request.form.getlist('foox'):\n",
        "                indexVal= request.form.getlist('foox')\n",
        "                print(indexVal)\n",
        "\n",
        "    return render_template(\"index.html\",path = '0')\n",
        "\n",
        "@app.route('/upload_static_file', methods=['POST'])\n",
        "def upload_static_file():\n",
        "    global filePath\n",
        "    print(\"Got request in static files\")\n",
        "    print(request.files)\n",
        "\n",
        "    files = request.files.getlist('static_file')\n",
        "\n",
        "    for f in files:\n",
        "        f.save(f'static/newFolder/'+f.filename)\n",
        "    \n",
        "    for i in os.listdir('/content/drive/MyDrive/Mini_Project_Sem_VI/Final/Medical-Image-Cleaner-Anony/WebApp/static/newFolder'):\n",
        "      deblurred = deblurX(i)\n",
        "      cv2.imwrite(f'/content/drive/MyDrive/Mini_Project_Sem_VI/Final/Medical-Image-Cleaner-Anony/WebApp/static/receivedImages/{i}',deblurred)\n",
        "\n",
        "\n",
        "      # print(\"Files are:\")\n",
        "      # print(i)\n",
        "\n",
        "\n",
        "    batchAnonymize(f'static/receivedImages/',ocr)\n",
        "    print(\"OK1\")\n",
        "    \n",
        "    zipObj = ZipFile('static/outputImages.zip', 'w')\n",
        "    for i in os.listdir('static/outputs'):\n",
        "        zipObj.write(f'static/outputs/{i}')\n",
        "    \n",
        "    resp = {\"success\": True, \"response\": \"file saved!\"}\n",
        "    return render_template(\"index.html\",path = '1')\n",
        "\n",
        "\n"
      ],
      "metadata": {
        "colab": {
          "base_uri": "https://localhost:8080/"
        },
        "id": "SNii9knUmsmd",
        "outputId": "34d65bc8-e9a9-42b1-bac4-e59f919c309a"
      },
      "execution_count": 8,
      "outputs": [
        {
          "output_type": "stream",
          "name": "stdout",
          "text": [
            "/content/drive/MyDrive/Mini_Project_Sem_VI/Final/Medical-Image-Cleaner-Anony/WebApp\n"
          ]
        },
        {
          "output_type": "stream",
          "name": "stderr",
          "text": [
            "/usr/local/lib/python3.7/dist-packages/fuzzywuzzy/fuzz.py:11: UserWarning: Using slow pure-python SequenceMatcher. Install python-Levenshtein to remove this warning\n",
            "  warnings.warn('Using slow pure-python SequenceMatcher. Install python-Levenshtein to remove this warning')\n"
          ]
        }
      ]
    },
    {
      "cell_type": "code",
      "source": [
        "ocr = OCR()\n",
        "\n",
        "try:\n",
        "  for i in os.listdir('static/outputs'):\n",
        "    os.remove(f'static/outputs/{i}')\n",
        "except:\n",
        "  pass\n",
        "\n",
        "try:\n",
        "  for i in os.listdir('static/receivedImages'):\n",
        "    os.remove(f'static/receivedImages/{i}')\n",
        "except:\n",
        "  pass\n",
        "\n",
        "run_with_ngrok(app)\n",
        "app.run()"
      ],
      "metadata": {
        "colab": {
          "base_uri": "https://localhost:8080/"
        },
        "id": "_OGM3V5dm4XN",
        "outputId": "daddb6d6-5128-47fb-e8fd-e2d3532f8141"
      },
      "execution_count": 9,
      "outputs": [
        {
          "output_type": "stream",
          "name": "stderr",
          "text": [
            "Downloading detection model, please wait. This may take several minutes depending upon your network connection.\n"
          ]
        },
        {
          "output_type": "stream",
          "name": "stdout",
          "text": [
            ""
          ]
        },
        {
          "output_type": "stream",
          "name": "stderr",
          "text": [
            "Downloading recognition model, please wait. This may take several minutes depending upon your network connection.\n"
          ]
        },
        {
          "output_type": "stream",
          "name": "stdout",
          "text": [
            " * Serving Flask app \"__main__\" (lazy loading)\n",
            " * Environment: production\n",
            "\u001b[31m   WARNING: This is a development server. Do not use it in a production deployment.\u001b[0m\n",
            "\u001b[2m   Use a production WSGI server instead.\u001b[0m\n",
            " * Debug mode: off\n"
          ]
        },
        {
          "output_type": "stream",
          "name": "stderr",
          "text": [
            " * Running on http://127.0.0.1:5000/ (Press CTRL+C to quit)\n"
          ]
        },
        {
          "output_type": "stream",
          "name": "stdout",
          "text": [
            " * Running on http://c473-34-122-206-73.ngrok.io\n",
            " * Traffic stats available on http://127.0.0.1:4040\n"
          ]
        },
        {
          "output_type": "stream",
          "name": "stderr",
          "text": [
            "127.0.0.1 - - [03/Apr/2022 18:26:26] \"\u001b[37mGET / HTTP/1.1\u001b[0m\" 200 -\n",
            "127.0.0.1 - - [03/Apr/2022 18:26:26] \"\u001b[37mGET /static/app.js HTTP/1.1\u001b[0m\" 200 -\n",
            "127.0.0.1 - - [03/Apr/2022 18:26:27] \"\u001b[37mGET /static/assets/css/quick-website.css HTTP/1.1\u001b[0m\" 200 -\n",
            "127.0.0.1 - - [03/Apr/2022 18:26:27] \"\u001b[37mGET /static/assets/img/svg/illustrations/illustration-5.svg HTTP/1.1\u001b[0m\" 200 -\n",
            "127.0.0.1 - - [03/Apr/2022 18:26:27] \"\u001b[37mGET /static/assets/img/svg/illustrations/illustration-6.svg HTTP/1.1\u001b[0m\" 200 -\n",
            "127.0.0.1 - - [03/Apr/2022 18:26:27] \"\u001b[37mGET /static/assets/img/svg/illustrations/illustration-3.svg HTTP/1.1\u001b[0m\" 200 -\n",
            "127.0.0.1 - - [03/Apr/2022 18:26:28] \"\u001b[37mGET /static/assets/libs/jquery/dist/jquery.min.js HTTP/1.1\u001b[0m\" 200 -\n",
            "127.0.0.1 - - [03/Apr/2022 18:26:28] \"\u001b[37mGET /static/assets/libs/%40fortawesome/fontawesome-free/css/all.min.css HTTP/1.1\u001b[0m\" 200 -\n",
            "127.0.0.1 - - [03/Apr/2022 18:26:28] \"\u001b[37mGET /static/assets/libs/svg-injector/dist/svg-injector.min.js HTTP/1.1\u001b[0m\" 200 -\n",
            "127.0.0.1 - - [03/Apr/2022 18:26:29] \"\u001b[37mGET /static/assets/libs/feather-icons/dist/feather.min.js HTTP/1.1\u001b[0m\" 200 -\n",
            "127.0.0.1 - - [03/Apr/2022 18:26:29] \"\u001b[37mGET /static/assets/img/svg/illustrations/illustration-7.svg HTTP/1.1\u001b[0m\" 200 -\n",
            "127.0.0.1 - - [03/Apr/2022 18:26:29] \"\u001b[37mGET /static/assets/libs/bootstrap/dist/js/bootstrap.bundle.min.js HTTP/1.1\u001b[0m\" 200 -\n",
            "127.0.0.1 - - [03/Apr/2022 18:26:29] \"\u001b[37mGET /static/assets/js/quick-website.js HTTP/1.1\u001b[0m\" 200 -\n",
            "127.0.0.1 - - [03/Apr/2022 18:26:38] \"\u001b[37mGET / HTTP/1.1\u001b[0m\" 200 -\n",
            "127.0.0.1 - - [03/Apr/2022 18:26:38] \"\u001b[37mGET /static/assets/css/quick-website.css HTTP/1.1\u001b[0m\" 206 -\n",
            "127.0.0.1 - - [03/Apr/2022 18:26:38] \"\u001b[37mGET /static/assets/libs/feather-icons/dist/feather.min.js HTTP/1.1\u001b[0m\" 206 -\n",
            "127.0.0.1 - - [03/Apr/2022 18:26:38] \"\u001b[37mGET /static/assets/libs/feather-icons/dist/feather.min.js HTTP/1.1\u001b[0m\" 206 -\n",
            "127.0.0.1 - - [03/Apr/2022 18:26:39] \"\u001b[37mGET /static/assets/css/quick-website.css HTTP/1.1\u001b[0m\" 206 -\n",
            "127.0.0.1 - - [03/Apr/2022 18:26:42] \"\u001b[33mGET /assets/img/brand/x-ray.png HTTP/1.1\u001b[0m\" 404 -\n"
          ]
        },
        {
          "output_type": "stream",
          "name": "stdout",
          "text": [
            "Got request in static files\n",
            "ImmutableMultiDict([('static_file', <FileStorage: '20201206_130500.jpg' ('image/jpeg')>), ('static_file', <FileStorage: 'Blurred.jpg' ('image/jpeg')>)])\n",
            "8510.743559204137\n",
            "198.4084221060784\n",
            "Going In....\n",
            "It is ['/content/drive/MyDrive/Mini_Project_Sem_VI/Final/IFAN/demo/input_user/Blurred.jpg']\n",
            "\u001b[1m\u001b[32m\n",
            "[EVAL IFAN][01/01] Blurred.jpg\u001b[0m\n",
            "static/receivedImages/\n",
            "(2068, 2608, 3) 1.2611218568665377 (500, 630, 3)\n",
            "static/receivedImages//20201206_130500.jpg\n",
            "Hospital\n",
            "Ph\n",
            "Sushant\n",
            "W\n",
            "Abhishek\n",
            "Yadav\n",
            "P\n",
            "Chest\n",
            "Malad\n",
            "Patel\n",
            "I Isss\n",
            "20201206_130500.jpg\n",
            "I Isss111\n",
            "20201206_130500.jpg\n",
            "(1304, 1920, 3) 1.4723926380368098 (500, 736, 3)\n",
            "static/receivedImages//Blurred.jpg\n",
            "Sushamit\n",
            "R\n",
            "Tamstercrtel\n",
            "Yadav\n",
            "I Isss\n",
            "Blurred.jpg\n",
            "I Isss111\n",
            "Blurred.jpg\n",
            "OK1\n"
          ]
        },
        {
          "output_type": "stream",
          "name": "stderr",
          "text": [
            "127.0.0.1 - - [03/Apr/2022 18:27:04] \"\u001b[37mPOST /upload_static_file HTTP/1.1\u001b[0m\" 200 -\n",
            "127.0.0.1 - - [03/Apr/2022 18:27:07] \"\u001b[37mGET /static/outputImages.zip HTTP/1.1\u001b[0m\" 200 -\n"
          ]
        }
      ]
    }
  ]
}